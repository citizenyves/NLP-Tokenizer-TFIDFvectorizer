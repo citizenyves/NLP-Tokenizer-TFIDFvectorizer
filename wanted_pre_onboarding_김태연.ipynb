{
  "nbformat": 4,
  "nbformat_minor": 0,
  "metadata": {
    "colab": {
      "name": "wanted_pre_onboarding_김태연.ipynb",
      "provenance": [],
      "collapsed_sections": [],
      "authorship_tag": "ABX9TyM2eV043p9JqHDiRgoouR9Q",
      "include_colab_link": true
    },
    "kernelspec": {
      "name": "python3",
      "display_name": "Python 3"
    },
    "language_info": {
      "name": "python"
    }
  },
  "cells": [
    {
      "cell_type": "markdown",
      "metadata": {
        "id": "view-in-github",
        "colab_type": "text"
      },
      "source": [
        "<a href=\"https://colab.research.google.com/github/citizenyves/wanted_pre_onboarding/blob/main/wanted_pre_onboarding_%EA%B9%80%ED%83%9C%EC%97%B0.ipynb\" target=\"_parent\"><img src=\"https://colab.research.google.com/assets/colab-badge.svg\" alt=\"Open In Colab\"/></a>"
      ]
    },
    {
      "cell_type": "code",
      "source": [
        "import re\n",
        "import numpy as np"
      ],
      "metadata": {
        "id": "_vAqBlYIKgv-"
      },
      "execution_count": 1,
      "outputs": []
    },
    {
      "cell_type": "markdown",
      "source": [
        "# Question 1) Tokenizer"
      ],
      "metadata": {
        "id": "xjsSkz2w-LBy"
      }
    },
    {
      "cell_type": "markdown",
      "source": [
        "### 1-1) Tokenizer class"
      ],
      "metadata": {
        "id": "VCVDgCwRPEx_"
      }
    },
    {
      "cell_type": "code",
      "source": [
        "class Tokenizer():\n",
        "    def __init__(self):\n",
        "        self.word_dict = {'oov': 0}\n",
        "        self.fit_checker = False\n",
        "    \n",
        "    def preprocessing(self, sequences):\n",
        "        result = []\n",
        "        '''\n",
        "        문제 1-1.\n",
        "        '''\n",
        "        lowers = [sequence.lower() for sequence in sequences]      # 입력문장 소문자화\n",
        "        p = re.compile('[a-z]+')                                   # 텍스트(소문자)만 거르는 정규식 패턴\n",
        "        for lower in lowers:\n",
        "            result.append(p.findall(lower))                        # 반복문으로 nested list 생성\n",
        "\n",
        "        return result\n",
        "    \n",
        "    def fit(self, sequences):\n",
        "        self.fit_checker = False\n",
        "        '''\n",
        "        문제 1-2.\n",
        "        '''\n",
        "        tokens = self.preprocessing(sequences)                     # tokens = 토크나이징된 nested list 형태\n",
        "        for sent in tokens:                                        # sent = 한개 문장이 토큰화되어 있는 list 형태\n",
        "            for token in sent:                                     # token = 한개 문장 내 한개 단어토큰\n",
        "                if token not in self.word_dict:\n",
        "                    new_id = len(self.word_dict)                   # new_id = 단어 사전에 신규단어의 id를 만들어주는 과정\n",
        "                    self.word_dict[token] = new_id\n",
        "\n",
        "        self.fit_checker = True\n",
        "    \n",
        "    def transform(self, sequences):\n",
        "        result = []\n",
        "        tokens = self.preprocessing(sequences)                     # tokens = 토크나이징된 nested list 형태\n",
        "        if self.fit_checker:\n",
        "            '''\n",
        "            문제 1-3.\n",
        "            '''\n",
        "            for sent in tokens:                                    # 각 토큰별 정수 인덱싱 과정\n",
        "                result.append([self.word_dict[token] if token in self.word_dict else self.word_dict['oov'] for token in sent])\n",
        "            return result\n",
        "        else:\n",
        "            raise Exception(\"Tokenizer instance is not fitted yet.\")\n",
        "        \n",
        "    def fit_transform(self, sequences):\n",
        "        self.fit(sequences)\n",
        "        result = self.transform(sequences)\n",
        "        return result"
      ],
      "metadata": {
        "id": "yzNzzzi0-Uhv"
      },
      "execution_count": 2,
      "outputs": []
    },
    {
      "cell_type": "markdown",
      "source": [
        "### 1-2) An example using the Tokenizer class"
      ],
      "metadata": {
        "id": "DKw6CukOPBp_"
      }
    },
    {
      "cell_type": "code",
      "execution_count": 3,
      "metadata": {
        "colab": {
          "base_uri": "https://localhost:8080/"
        },
        "id": "ZPSlOMF6961w",
        "outputId": "c8a715f3-a138-4ca8-faa6-3cfc73c4f548"
      },
      "outputs": [
        {
          "output_type": "stream",
          "name": "stdout",
          "text": [
            "preprocessing\n",
            "[['data', 'science', 'is', 'the', 'sexiest', 'job', 'of', 'the', 'st', 'century'], ['machine', 'learning', 'is', 'the', 'key', 'for', 'data', 'science'], ['the', 'machine', 'cleans', 'keys', 'for', 'free']]\n",
            "\n",
            "\n",
            "fit : word_dict\n",
            "{'oov': 0, 'data': 1, 'science': 2, 'is': 3, 'the': 4, 'sexiest': 5, 'job': 6, 'of': 7, 'st': 8, 'century': 9, 'machine': 10, 'learning': 11, 'key': 12, 'for': 13, 'cleans': 14, 'keys': 15, 'free': 16}\n",
            "\n",
            "\n",
            "transform : integer indexing\n",
            "[[1, 2, 3, 4, 5, 6, 7, 4, 8, 9], [10, 11, 3, 4, 12, 13, 1, 2], [4, 10, 14, 15, 13, 16]]\n",
            "\n",
            "\n",
            "fit_transform : tokenizing and integer indexing\n",
            "[[1, 2, 3, 4, 5, 6, 7, 4, 8, 9], [10, 11, 3, 4, 12, 13, 1, 2], [4, 10, 14, 15, 13, 16]]\n"
          ]
        }
      ],
      "source": [
        "# Sentences\n",
        "sequences = [\"Data Science is the SEXIEST job of the 21st century.\",\n",
        "             \"Machine learning is the key for data science~\",\n",
        "             \"The machine cleans keys for free!\"]\n",
        "\n",
        "# # Instantiate tokenizer\n",
        "tokenizer = Tokenizer()\n",
        "\n",
        "# preprocessing\n",
        "print(\"preprocessing\")\n",
        "print(tokenizer.preprocessing(sequences))\n",
        "print(\"\\n\")\n",
        "\n",
        "# fit\n",
        "tokenizer.fit(sequences)\n",
        "print(\"fit : word_dict\")\n",
        "print(tokenizer.word_dict)\n",
        "print(\"\\n\")\n",
        "\n",
        "# transform\n",
        "print(\"transform : integer indexing\")\n",
        "print(tokenizer.transform(sequences))\n",
        "print(\"\\n\")\n",
        "\n",
        "# fit_transform\n",
        "print(\"fit_transform : tokenizing and integer indexing\")\n",
        "print(tokenizer.fit_transform(sequences))"
      ]
    },
    {
      "cell_type": "markdown",
      "source": [
        "# Question 2) TF/IDF "
      ],
      "metadata": {
        "id": "bKJnnhWtW7ni"
      }
    },
    {
      "cell_type": "markdown",
      "source": [
        "### 2-1) TfidfVectorizer class"
      ],
      "metadata": {
        "id": "HqngFscUW7ni"
      }
    },
    {
      "cell_type": "code",
      "source": [
        "class TfidfVectorizer():\n",
        "    def __init__(self, tokenizer):\n",
        "        self.tokenizer = tokenizer\n",
        "        self.fit_checker = False\n",
        "    \n",
        "    def fit(self, sequences):\n",
        "        tokenized = self.tokenizer.fit_transform(sequences)   # tokenized = 정수 인덱싱된 nested list 형태\n",
        "        '''\n",
        "        문제 2-1.\n",
        "        '''\n",
        "        self.word_dict = self.tokenizer.word_dict             # 'oov'토큰 포함된 단어사전\n",
        "        n = len(sequences)                                    # 입력 데이터의 전체 문장수\n",
        "        self.idf = []                                         # idf값을 넣을 리스트 생성\n",
        "        \n",
        "        for id in self.word_dict.values():                    # id = 단어별 id (oov토큰 포함된 상태)\n",
        "            if id == 0:                                       # 'oov'토큰 id값 제외\n",
        "                continue\n",
        "            df = 0                                            # df값 초기화\n",
        "            for sent in tokenized:                            # sent = 정수 인덱싱된 한 개 문장\n",
        "                if id in sent:                            \n",
        "                    df += 1                                   # id가 문장 내에 있으면 df값 +1\n",
        "                else:\n",
        "                    pass\n",
        "            idf_elm = np.log(n/(1+df))                        # idf_elm = 각 토큰별 idf 값\n",
        "            self.idf.append(idf_elm)                          \n",
        "\n",
        "        self.fit_checker = True\n",
        "\n",
        "    def transform(self, sequences):\n",
        "        if self.fit_checker:\n",
        "            tokenized = self.tokenizer.transform(sequences)   # tokenized = 정수 인덱싱된 nested list 형태\n",
        "            '''\n",
        "            문제 2-2.\n",
        "            '''\n",
        "            self.tf = []                                      # tf값 리스트를 넣을 리스트 생성\n",
        "            for sent in tokenized:                            # sent = 정수 인덱싱된 한 개 문장\n",
        "                doc = []                                      # doc = (모든토큰을 대상으로)특정 문장 내에 각 토큰의 등장 빈도값을 가진 리스트\n",
        "                for id in self.word_dict.values():\n",
        "                    if id == 0:                               # 'oov'토큰 id값 제외\n",
        "                        continue\n",
        "                    cnt = sent.count(id)                      # cnt = 각 문장별 각 토큰의 등장 빈도값\n",
        "                    doc.append(cnt)                           \n",
        "                self.tf.append(doc)                           \n",
        "            \n",
        "            self.tfidf_matrix = np.multiply(self.tf, self.idf).tolist()\n",
        "            return self.tfidf_matrix\n",
        "        else:\n",
        "            raise Exception(\"TfidfVectorizer instance is not fitted yet.\")\n",
        "\n",
        "    def fit_transform(self, sequences):\n",
        "        self.fit(sequences)\n",
        "        return self.transform(sequences)"
      ],
      "metadata": {
        "id": "Ymq2K8cfPdjo"
      },
      "execution_count": 4,
      "outputs": []
    },
    {
      "cell_type": "markdown",
      "source": [
        "### 2-2) An example using the TfidfVectorizer"
      ],
      "metadata": {
        "id": "6tv3YmW9Ju_T"
      }
    },
    {
      "cell_type": "code",
      "source": [
        "tfidfvectorizer = TfidfVectorizer(tokenizer)\n",
        "\n",
        "# fit\n",
        "tfidfvectorizer.fit(sequences)\n",
        "print(\"fit : IDF\")\n",
        "print(tfidfvectorizer.idf)\n",
        "print(\"\\n\")\n",
        "\n",
        "# transform\n",
        "print(\"transform : tfidf_matrix\")\n",
        "print(tfidfvectorizer.transform(sequences))\n",
        "print(\"\\n\")\n",
        "\n",
        "# fit_transform\n",
        "print(\"fit_transform\")\n",
        "print(tfidfvectorizer.fit_transform(sequences))"
      ],
      "metadata": {
        "colab": {
          "base_uri": "https://localhost:8080/"
        },
        "id": "y_95k04saBHJ",
        "outputId": "0b56d103-2d42-4ebf-9578-b8105bf0dfda"
      },
      "execution_count": 5,
      "outputs": [
        {
          "output_type": "stream",
          "name": "stdout",
          "text": [
            "fit : IDF\n",
            "[0.0, 0.0, 0.0, -0.2876820724517809, 0.4054651081081644, 0.4054651081081644, 0.4054651081081644, 0.4054651081081644, 0.4054651081081644, 0.0, 0.4054651081081644, 0.4054651081081644, 0.0, 0.4054651081081644, 0.4054651081081644, 0.4054651081081644]\n",
            "\n",
            "\n",
            "transform : tfidf_matrix\n",
            "[[0.0, 0.0, 0.0, -0.5753641449035618, 0.4054651081081644, 0.4054651081081644, 0.4054651081081644, 0.4054651081081644, 0.4054651081081644, 0.0, 0.0, 0.0, 0.0, 0.0, 0.0, 0.0], [0.0, 0.0, 0.0, -0.2876820724517809, 0.0, 0.0, 0.0, 0.0, 0.0, 0.0, 0.4054651081081644, 0.4054651081081644, 0.0, 0.0, 0.0, 0.0], [0.0, 0.0, 0.0, -0.2876820724517809, 0.0, 0.0, 0.0, 0.0, 0.0, 0.0, 0.0, 0.0, 0.0, 0.4054651081081644, 0.4054651081081644, 0.4054651081081644]]\n",
            "\n",
            "\n",
            "fit_transform\n",
            "[[0.0, 0.0, 0.0, -0.5753641449035618, 0.4054651081081644, 0.4054651081081644, 0.4054651081081644, 0.4054651081081644, 0.4054651081081644, 0.0, 0.0, 0.0, 0.0, 0.0, 0.0, 0.0], [0.0, 0.0, 0.0, -0.2876820724517809, 0.0, 0.0, 0.0, 0.0, 0.0, 0.0, 0.4054651081081644, 0.4054651081081644, 0.0, 0.0, 0.0, 0.0], [0.0, 0.0, 0.0, -0.2876820724517809, 0.0, 0.0, 0.0, 0.0, 0.0, 0.0, 0.0, 0.0, 0.0, 0.4054651081081644, 0.4054651081081644, 0.4054651081081644]]\n"
          ]
        }
      ]
    }
  ]
}