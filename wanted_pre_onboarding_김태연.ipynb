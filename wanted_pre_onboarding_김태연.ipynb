{
  "nbformat": 4,
  "nbformat_minor": 0,
  "metadata": {
    "colab": {
      "name": "wanted_pre_onboarding_김태연.ipynb",
      "provenance": [],
      "collapsed_sections": [],
      "toc_visible": true,
      "authorship_tag": "ABX9TyPIjNzS93RAzZypnJjTVv1x",
      "include_colab_link": true
    },
    "kernelspec": {
      "name": "python3",
      "display_name": "Python 3"
    },
    "language_info": {
      "name": "python"
    }
  },
  "cells": [
    {
      "cell_type": "markdown",
      "metadata": {
        "id": "view-in-github",
        "colab_type": "text"
      },
      "source": [
        "<a href=\"https://colab.research.google.com/github/citizenyves/wanted_pre_onboarding/blob/main/wanted_pre_onboarding_%EA%B9%80%ED%83%9C%EC%97%B0.ipynb\" target=\"_parent\"><img src=\"https://colab.research.google.com/assets/colab-badge.svg\" alt=\"Open In Colab\"/></a>"
      ]
    },
    {
      "cell_type": "code",
      "source": [
        "import re\n",
        "import numpy as np\n",
        "import pandas as pd # If necessary"
      ],
      "metadata": {
        "id": "_vAqBlYIKgv-"
      },
      "execution_count": null,
      "outputs": []
    },
    {
      "cell_type": "markdown",
      "source": [
        "# Question 1) Tokenizer"
      ],
      "metadata": {
        "id": "xjsSkz2w-LBy"
      }
    },
    {
      "cell_type": "markdown",
      "source": [
        "### 1-1) Tokenizer class"
      ],
      "metadata": {
        "id": "VCVDgCwRPEx_"
      }
    },
    {
      "cell_type": "code",
      "source": [
        "class Tokenizer():\n",
        "    def __init__(self):\n",
        "        self.word_dict = {'oov': 0}\n",
        "        self.id_dict = {}                # id_to_words 딕셔너리 추가 (oov토큰 제거)\n",
        "        self.fit_checker = False\n",
        "    \n",
        "    def preprocessing(self, sequences):\n",
        "        result = []\n",
        "        '''\n",
        "        문제 1-1.\n",
        "        '''\n",
        "        # 입력문장 소문자화\n",
        "        lowers = [sequence.lower() for sequence in sequences]\n",
        "\n",
        "        # 텍스트(소문자)만 거르는 정규식으로 nested list 생성\n",
        "        p = re.compile('[a-z]+')\n",
        "        for lower in lowers:\n",
        "            result.append(p.findall(lower))\n",
        "\n",
        "        return result\n",
        "    \n",
        "    def fit(self, sequences):\n",
        "        self.fit_checker = False\n",
        "        '''\n",
        "        문제 1-2.\n",
        "        '''\n",
        "        result = self.preprocessing(sequences) \n",
        "        for tokens in result:\n",
        "            for token in tokens:\n",
        "                if token not in self.word_dict:\n",
        "                    new_id = len(self.word_dict)\n",
        "                    self.word_dict[token] = new_id\n",
        "                    self.id_dict[new_id] = token\n",
        "\n",
        "        self.fit_checker = True\n",
        "    \n",
        "    def transform(self, sequences):\n",
        "        result = []\n",
        "        tokens = self.preprocessing(sequences)\n",
        "        if self.fit_checker:\n",
        "            '''\n",
        "            문제 1-3.\n",
        "            '''\n",
        "            for sent in tokens:\n",
        "                result.append([self.word_dict[token] if token in self.word_dict else self.word_dict['oov'] for token in sent])\n",
        "            return result\n",
        "        else:\n",
        "            raise Exception(\"Tokenizer instance is not fitted yet.\")\n",
        "        \n",
        "    def fit_transform(self, sequences):\n",
        "        self.fit(sequences)\n",
        "        result = self.transform(sequences)\n",
        "        return result"
      ],
      "metadata": {
        "id": "yzNzzzi0-Uhv"
      },
      "execution_count": null,
      "outputs": []
    },
    {
      "cell_type": "markdown",
      "source": [
        "### 1-2) An example using the Tokenizer"
      ],
      "metadata": {
        "id": "DKw6CukOPBp_"
      }
    },
    {
      "cell_type": "code",
      "execution_count": null,
      "metadata": {
        "colab": {
          "base_uri": "https://localhost:8080/"
        },
        "id": "ZPSlOMF6961w",
        "outputId": "97d9aec7-50e7-4526-b63b-9863be415596"
      },
      "outputs": [
        {
          "output_type": "stream",
          "name": "stdout",
          "text": [
            "tokenizing and integer indexing\n",
            "[[1, 2, 3, 4, 5, 6, 7, 4, 8, 9], [10, 11, 3, 4, 12, 13, 1, 2], [4, 10, 14, 15, 13, 16]]\n",
            "\n",
            "\n",
            "word_dict\n",
            "{'oov': 0, 'data': 1, 'science': 2, 'is': 3, 'the': 4, 'sexiest': 5, 'job': 6, 'of': 7, 'st': 8, 'century': 9, 'machine': 10, 'learning': 11, 'key': 12, 'for': 13, 'cleans': 14, 'keys': 15, 'free': 16}\n",
            "\n",
            "\n",
            "id_dict (oov token removed)\n",
            "{1: 'data', 2: 'science', 3: 'is', 4: 'the', 5: 'sexiest', 6: 'job', 7: 'of', 8: 'st', 9: 'century', 10: 'machine', 11: 'learning', 12: 'key', 13: 'for', 14: 'cleans', 15: 'keys', 16: 'free'}\n"
          ]
        }
      ],
      "source": [
        "# Sentences\n",
        "sequences = [\"Data Science is the SEXIEST job of the 21st century.\",\n",
        "             \"Machine learning is the key for data science~\",\n",
        "             \"The machine cleans keys for free!\"]\n",
        "\n",
        "# # Instantiate tokenizer\n",
        "tokenizer = Tokenizer()\n",
        "\n",
        "# fit_transform\n",
        "print(\"tokenizing and integer indexing\")\n",
        "print(tokenizer.fit_transform(sequences))\n",
        "print(\"\\n\")\n",
        "print(\"word_dict\")\n",
        "print(tokenizer.word_dict)\n",
        "print(\"\\n\")\n",
        "print(\"id_dict (oov token removed)\")\n",
        "print(tokenizer.id_dict)"
      ]
    },
    {
      "cell_type": "markdown",
      "source": [
        "# Question 2) TF/IDF "
      ],
      "metadata": {
        "id": "bKJnnhWtW7ni"
      }
    },
    {
      "cell_type": "markdown",
      "source": [
        "### 2-1) TfidfVectorizer class"
      ],
      "metadata": {
        "id": "HqngFscUW7ni"
      }
    },
    {
      "cell_type": "code",
      "source": [
        "class TfidfVectorizer():\n",
        "    def __init__(self, tokenizer):\n",
        "        self.tokenizer = tokenizer\n",
        "        self.fit_checker = False\n",
        "    \n",
        "    def fit(self, sequences):\n",
        "        tokenized = self.tokenizer.fit_transform(sequences)\n",
        "        '''\n",
        "        문제 2-1.\n",
        "        '''\n",
        "        self.id_dict = self.tokenizer.id_dict    # id_to_words dictionary\n",
        "        n = len(sequences)                       # 전체 문장수\n",
        "        self.idf = []                            # idf값 리스트\n",
        "        \n",
        "        for key in self.id_dict.keys():          # key = id\n",
        "            df = 0                               # df값\n",
        "            for tokens in tokenized:             # tokens = 정수 인덱싱된 한 개 문장\n",
        "                if key in tokens:\n",
        "                    df += 1\n",
        "                else:\n",
        "                    pass\n",
        "            idf_elm = np.log(n/(1+df))           # 각 단어별 idf 값 계산\n",
        "            self.idf.append(idf_elm)             # 각 단어별 idf 값 append\n",
        "\n",
        "        self.fit_checker = True\n",
        "\n",
        "    def transform(self, sequences):\n",
        "        if self.fit_checker:\n",
        "            tokenized = self.tokenizer.transform(sequences)\n",
        "            '''\n",
        "            문제 2-2.\n",
        "            '''\n",
        "            self.tf = []\n",
        "            for tokens in tokenized:\n",
        "                doc = []\n",
        "                for idx, value in enumerate(self.id_dict):\n",
        "                    cnt = tokens.count(idx + 1)             # id_dict에는 oov 토큰이 없기 때문에 idx에 +1\n",
        "                    doc.append(cnt)\n",
        "                self.tf.append(doc)\n",
        "            \n",
        "            self.tfidf_matrix = np.multiply(self.tf, self.idf).tolist()\n",
        "\n",
        "            ## If DataFraming is necessary ##\n",
        "            # vocab = self.tokenizer.id_dict.values()             \n",
        "            # self.tfidf_matrix = pd.DataFrame(data=self.tfidf_matrix, columns=vocab)\n",
        "\n",
        "            return self.tfidf_matrix\n",
        "        else:\n",
        "            raise Exception(\"TfidfVectorizer instance is not fitted yet.\")\n",
        "\n",
        "    def fit_transform(self, sequences):\n",
        "        self.fit(sequences)\n",
        "        return self.transform(sequences)"
      ],
      "metadata": {
        "id": "m1tExXrkXBrv"
      },
      "execution_count": null,
      "outputs": []
    },
    {
      "cell_type": "markdown",
      "source": [
        "### 2-2) An example using the TfidfVectorizer"
      ],
      "metadata": {
        "id": "6tv3YmW9Ju_T"
      }
    },
    {
      "cell_type": "code",
      "source": [
        "# Instantiate tfidfvectorizer\n",
        "tfidfvectorizer = TfidfVectorizer(tokenizer)"
      ],
      "metadata": {
        "id": "D50poNGDHuhE"
      },
      "execution_count": null,
      "outputs": []
    },
    {
      "cell_type": "code",
      "source": [
        "# fit_transform\n",
        "tfidfvectorizer.fit_transform(sequences)"
      ],
      "metadata": {
        "colab": {
          "base_uri": "https://localhost:8080/"
        },
        "id": "a73RVJdwZXIj",
        "outputId": "2645f182-8f1e-43ab-d024-aaeb31a7b1ec"
      },
      "execution_count": null,
      "outputs": [
        {
          "output_type": "execute_result",
          "data": {
            "text/plain": [
              "[[0.0,\n",
              "  0.0,\n",
              "  0.0,\n",
              "  -0.5753641449035618,\n",
              "  0.4054651081081644,\n",
              "  0.4054651081081644,\n",
              "  0.4054651081081644,\n",
              "  0.4054651081081644,\n",
              "  0.4054651081081644,\n",
              "  0.0,\n",
              "  0.0,\n",
              "  0.0,\n",
              "  0.0,\n",
              "  0.0,\n",
              "  0.0,\n",
              "  0.0],\n",
              " [0.0,\n",
              "  0.0,\n",
              "  0.0,\n",
              "  -0.2876820724517809,\n",
              "  0.0,\n",
              "  0.0,\n",
              "  0.0,\n",
              "  0.0,\n",
              "  0.0,\n",
              "  0.0,\n",
              "  0.4054651081081644,\n",
              "  0.4054651081081644,\n",
              "  0.0,\n",
              "  0.0,\n",
              "  0.0,\n",
              "  0.0],\n",
              " [0.0,\n",
              "  0.0,\n",
              "  0.0,\n",
              "  -0.2876820724517809,\n",
              "  0.0,\n",
              "  0.0,\n",
              "  0.0,\n",
              "  0.0,\n",
              "  0.0,\n",
              "  0.0,\n",
              "  0.0,\n",
              "  0.0,\n",
              "  0.0,\n",
              "  0.4054651081081644,\n",
              "  0.4054651081081644,\n",
              "  0.4054651081081644]]"
            ]
          },
          "metadata": {},
          "execution_count": 23
        }
      ]
    },
    {
      "cell_type": "code",
      "source": [
        "# fit_transform (version of dataframe)\n",
        "tfidfvectorizer.fit_transform(sequences)"
      ],
      "metadata": {
        "colab": {
          "base_uri": "https://localhost:8080/",
          "height": 207
        },
        "id": "45Uo7Wi4TDpi",
        "outputId": "a7178918-9d32-4458-c245-01c41ef43227"
      },
      "execution_count": null,
      "outputs": [
        {
          "output_type": "execute_result",
          "data": {
            "text/html": [
              "\n",
              "  <div id=\"df-504fea6b-9e4a-40ae-a37a-7686dc5b2868\">\n",
              "    <div class=\"colab-df-container\">\n",
              "      <div>\n",
              "<style scoped>\n",
              "    .dataframe tbody tr th:only-of-type {\n",
              "        vertical-align: middle;\n",
              "    }\n",
              "\n",
              "    .dataframe tbody tr th {\n",
              "        vertical-align: top;\n",
              "    }\n",
              "\n",
              "    .dataframe thead th {\n",
              "        text-align: right;\n",
              "    }\n",
              "</style>\n",
              "<table border=\"1\" class=\"dataframe\">\n",
              "  <thead>\n",
              "    <tr style=\"text-align: right;\">\n",
              "      <th></th>\n",
              "      <th>data</th>\n",
              "      <th>science</th>\n",
              "      <th>is</th>\n",
              "      <th>the</th>\n",
              "      <th>sexiest</th>\n",
              "      <th>job</th>\n",
              "      <th>of</th>\n",
              "      <th>st</th>\n",
              "      <th>century</th>\n",
              "      <th>machine</th>\n",
              "      <th>learning</th>\n",
              "      <th>key</th>\n",
              "      <th>for</th>\n",
              "      <th>cleans</th>\n",
              "      <th>keys</th>\n",
              "      <th>free</th>\n",
              "    </tr>\n",
              "  </thead>\n",
              "  <tbody>\n",
              "    <tr>\n",
              "      <th>0</th>\n",
              "      <td>0.0</td>\n",
              "      <td>0.0</td>\n",
              "      <td>0.0</td>\n",
              "      <td>-0.575364</td>\n",
              "      <td>0.405465</td>\n",
              "      <td>0.405465</td>\n",
              "      <td>0.405465</td>\n",
              "      <td>0.405465</td>\n",
              "      <td>0.405465</td>\n",
              "      <td>0.0</td>\n",
              "      <td>0.000000</td>\n",
              "      <td>0.000000</td>\n",
              "      <td>0.0</td>\n",
              "      <td>0.000000</td>\n",
              "      <td>0.000000</td>\n",
              "      <td>0.000000</td>\n",
              "    </tr>\n",
              "    <tr>\n",
              "      <th>1</th>\n",
              "      <td>0.0</td>\n",
              "      <td>0.0</td>\n",
              "      <td>0.0</td>\n",
              "      <td>-0.287682</td>\n",
              "      <td>0.000000</td>\n",
              "      <td>0.000000</td>\n",
              "      <td>0.000000</td>\n",
              "      <td>0.000000</td>\n",
              "      <td>0.000000</td>\n",
              "      <td>0.0</td>\n",
              "      <td>0.405465</td>\n",
              "      <td>0.405465</td>\n",
              "      <td>0.0</td>\n",
              "      <td>0.000000</td>\n",
              "      <td>0.000000</td>\n",
              "      <td>0.000000</td>\n",
              "    </tr>\n",
              "    <tr>\n",
              "      <th>2</th>\n",
              "      <td>0.0</td>\n",
              "      <td>0.0</td>\n",
              "      <td>0.0</td>\n",
              "      <td>-0.287682</td>\n",
              "      <td>0.000000</td>\n",
              "      <td>0.000000</td>\n",
              "      <td>0.000000</td>\n",
              "      <td>0.000000</td>\n",
              "      <td>0.000000</td>\n",
              "      <td>0.0</td>\n",
              "      <td>0.000000</td>\n",
              "      <td>0.000000</td>\n",
              "      <td>0.0</td>\n",
              "      <td>0.405465</td>\n",
              "      <td>0.405465</td>\n",
              "      <td>0.405465</td>\n",
              "    </tr>\n",
              "  </tbody>\n",
              "</table>\n",
              "</div>\n",
              "      <button class=\"colab-df-convert\" onclick=\"convertToInteractive('df-504fea6b-9e4a-40ae-a37a-7686dc5b2868')\"\n",
              "              title=\"Convert this dataframe to an interactive table.\"\n",
              "              style=\"display:none;\">\n",
              "        \n",
              "  <svg xmlns=\"http://www.w3.org/2000/svg\" height=\"24px\"viewBox=\"0 0 24 24\"\n",
              "       width=\"24px\">\n",
              "    <path d=\"M0 0h24v24H0V0z\" fill=\"none\"/>\n",
              "    <path d=\"M18.56 5.44l.94 2.06.94-2.06 2.06-.94-2.06-.94-.94-2.06-.94 2.06-2.06.94zm-11 1L8.5 8.5l.94-2.06 2.06-.94-2.06-.94L8.5 2.5l-.94 2.06-2.06.94zm10 10l.94 2.06.94-2.06 2.06-.94-2.06-.94-.94-2.06-.94 2.06-2.06.94z\"/><path d=\"M17.41 7.96l-1.37-1.37c-.4-.4-.92-.59-1.43-.59-.52 0-1.04.2-1.43.59L10.3 9.45l-7.72 7.72c-.78.78-.78 2.05 0 2.83L4 21.41c.39.39.9.59 1.41.59.51 0 1.02-.2 1.41-.59l7.78-7.78 2.81-2.81c.8-.78.8-2.07 0-2.86zM5.41 20L4 18.59l7.72-7.72 1.47 1.35L5.41 20z\"/>\n",
              "  </svg>\n",
              "      </button>\n",
              "      \n",
              "  <style>\n",
              "    .colab-df-container {\n",
              "      display:flex;\n",
              "      flex-wrap:wrap;\n",
              "      gap: 12px;\n",
              "    }\n",
              "\n",
              "    .colab-df-convert {\n",
              "      background-color: #E8F0FE;\n",
              "      border: none;\n",
              "      border-radius: 50%;\n",
              "      cursor: pointer;\n",
              "      display: none;\n",
              "      fill: #1967D2;\n",
              "      height: 32px;\n",
              "      padding: 0 0 0 0;\n",
              "      width: 32px;\n",
              "    }\n",
              "\n",
              "    .colab-df-convert:hover {\n",
              "      background-color: #E2EBFA;\n",
              "      box-shadow: 0px 1px 2px rgba(60, 64, 67, 0.3), 0px 1px 3px 1px rgba(60, 64, 67, 0.15);\n",
              "      fill: #174EA6;\n",
              "    }\n",
              "\n",
              "    [theme=dark] .colab-df-convert {\n",
              "      background-color: #3B4455;\n",
              "      fill: #D2E3FC;\n",
              "    }\n",
              "\n",
              "    [theme=dark] .colab-df-convert:hover {\n",
              "      background-color: #434B5C;\n",
              "      box-shadow: 0px 1px 3px 1px rgba(0, 0, 0, 0.15);\n",
              "      filter: drop-shadow(0px 1px 2px rgba(0, 0, 0, 0.3));\n",
              "      fill: #FFFFFF;\n",
              "    }\n",
              "  </style>\n",
              "\n",
              "      <script>\n",
              "        const buttonEl =\n",
              "          document.querySelector('#df-504fea6b-9e4a-40ae-a37a-7686dc5b2868 button.colab-df-convert');\n",
              "        buttonEl.style.display =\n",
              "          google.colab.kernel.accessAllowed ? 'block' : 'none';\n",
              "\n",
              "        async function convertToInteractive(key) {\n",
              "          const element = document.querySelector('#df-504fea6b-9e4a-40ae-a37a-7686dc5b2868');\n",
              "          const dataTable =\n",
              "            await google.colab.kernel.invokeFunction('convertToInteractive',\n",
              "                                                     [key], {});\n",
              "          if (!dataTable) return;\n",
              "\n",
              "          const docLinkHtml = 'Like what you see? Visit the ' +\n",
              "            '<a target=\"_blank\" href=https://colab.research.google.com/notebooks/data_table.ipynb>data table notebook</a>'\n",
              "            + ' to learn more about interactive tables.';\n",
              "          element.innerHTML = '';\n",
              "          dataTable['output_type'] = 'display_data';\n",
              "          await google.colab.output.renderOutput(dataTable, element);\n",
              "          const docLink = document.createElement('div');\n",
              "          docLink.innerHTML = docLinkHtml;\n",
              "          element.appendChild(docLink);\n",
              "        }\n",
              "      </script>\n",
              "    </div>\n",
              "  </div>\n",
              "  "
            ],
            "text/plain": [
              "   data  science   is       the  ...  for    cleans      keys      free\n",
              "0   0.0      0.0  0.0 -0.575364  ...  0.0  0.000000  0.000000  0.000000\n",
              "1   0.0      0.0  0.0 -0.287682  ...  0.0  0.000000  0.000000  0.000000\n",
              "2   0.0      0.0  0.0 -0.287682  ...  0.0  0.405465  0.405465  0.405465\n",
              "\n",
              "[3 rows x 16 columns]"
            ]
          },
          "metadata": {},
          "execution_count": 30
        }
      ]
    }
  ]
}